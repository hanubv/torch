{
  "nbformat": 4,
  "nbformat_minor": 0,
  "metadata": {
    "colab": {
      "provenance": [],
      "authorship_tag": "ABX9TyOeEkXLXfAy4Pv32w1uS+qA",
      "include_colab_link": true
    },
    "kernelspec": {
      "name": "python3",
      "display_name": "Python 3"
    },
    "language_info": {
      "name": "python"
    }
  },
  "cells": [
    {
      "cell_type": "markdown",
      "metadata": {
        "id": "view-in-github",
        "colab_type": "text"
      },
      "source": [
        "<a href=\"https://colab.research.google.com/github/hanubv/torch/blob/main/CustomDataloaderCreation(pyTrorch).ipynb\" target=\"_parent\"><img src=\"https://colab.research.google.com/assets/colab-badge.svg\" alt=\"Open In Colab\"/></a>"
      ]
    },
    {
      "cell_type": "code",
      "source": [
        "#Import all the required libraries\n",
        "import os\n",
        "import torch\n",
        "import numpy as  np\n",
        "import cv2\n",
        "from torchvision.io import read_image"
      ],
      "metadata": {
        "id": "6Rx3nzQZVytG"
      },
      "execution_count": 2,
      "outputs": []
    },
    {
      "cell_type": "code",
      "source": [
        "class Custom_dataset():\n",
        "\n",
        "    \"\"\" This will initialize all the required inputs to read the images and the targets from your local drive.\n",
        "        \"image_paths\" should be given as per the file location.\n",
        "        \"tagets\" should be called from any input CSV or text file from your local system.\n",
        "        NEED TO STUDY ABOUT AUGMENTATION\n",
        "        \"\"\"\n",
        "    def __init__(self, image_paths, targets, augmentations):\n",
        "        self.image_paths = image_paths\n",
        "        self.targets   = targets\n",
        "        self.augmentations = augmentations\n",
        "\n",
        "    \"\"\" This function will return the length of total targets. \"\"\"\n",
        "    def __len__(self):\n",
        "        return len(self.targets)\n",
        "\n",
        "    \"\"\"__getitem__ is used to call or read the images from the given path/file.\n",
        "      1. The variable \"targets\" will call the targets for specific index value which is given\n",
        "      2. The \"image\" will call the image from the given file and then it will convert the image into RGB format if gray color images are given(and it is optional).\n",
        "      3. Need to study about augmentation.\n",
        "      4. If any input image need to be transposed or converted you no need to do this, the __getitem__ function will take care that activity with the last line\n",
        "      \"np.transpose(image, (2, 0, 1)).astype(np.float32)\" into nump float array.\n",
        "      5. In the last step, you can return the image and target from the particular index which is given.\n",
        "      \"\"\"\n",
        "\n",
        "    def __getitem__(self, idx):\n",
        "          targets = self.targets[idx]\n",
        "          image = cv2.imread(self.image_paths[idx])\n",
        "          image = cv2.cvtColor(image, cv2.COLOR_BGR2RGB)\n",
        "          augmented = self.augmentations(image = image)\n",
        "          image = augmented[\"image\"]\n",
        "          mask = augmented[\"mask\"]\n",
        "          image = np.transpose(image, (2, 0, 1)).astype(np.float32)\n",
        "\n",
        "          return {\"image\": torch.tensor(image),\n",
        "                  \"target\": torch.tensor(targets)\n",
        "                  }\n"
      ],
      "metadata": {
        "id": "Ce__rePgC3YT"
      },
      "execution_count": 4,
      "outputs": []
    }
  ]
}