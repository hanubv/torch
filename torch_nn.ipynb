{
  "nbformat": 4,
  "nbformat_minor": 0,
  "metadata": {
    "colab": {
      "provenance": [],
      "authorship_tag": "ABX9TyN/3m7B6BYv0aHMCFBX3Bys",
      "include_colab_link": true
    },
    "kernelspec": {
      "name": "python3",
      "display_name": "Python 3"
    },
    "language_info": {
      "name": "python"
    }
  },
  "cells": [
    {
      "cell_type": "markdown",
      "metadata": {
        "id": "view-in-github",
        "colab_type": "text"
      },
      "source": [
        "<a href=\"https://colab.research.google.com/github/hanubv/torch/blob/main/torch_nn.ipynb\" target=\"_parent\"><img src=\"https://colab.research.google.com/assets/colab-badge.svg\" alt=\"Open In Colab\"/></a>"
      ]
    },
    {
      "cell_type": "code",
      "source": [
        "#Importing torch libraries\n",
        "import torch\n",
        "import torch.nn as nn\n",
        "import torch.nn.functional as F"
      ],
      "metadata": {
        "id": "7Bpfzz_lz-il"
      },
      "execution_count": null,
      "outputs": []
    },
    {
      "cell_type": "markdown",
      "source": [
        "**torch.nn.Module**"
      ],
      "metadata": {
        "id": "Q8UwEZvGmd9D"
      }
    },
    {
      "cell_type": "code",
      "source": [
        "#MODULE\n",
        "\"\"\"Base calss for all neural networks\"\"\"\n",
        "#Syntax: torch.nn.module(*args, **kwargs)\n",
        "\n",
        "#example\n",
        "class Model(nn.Module):\n",
        "      def __init__(self):\n",
        "          super().__init__()\n",
        "          self.conv1 = nn.Conv2d(1,20,5)\n",
        "          self.conv2 = nn.Conv2d(20,20, 5)\n",
        "\n",
        "      def forward(self):\n",
        "          x = F.relu(self.conv1(x))\n",
        "          return F.relu(self.conv2(x))"
      ],
      "metadata": {
        "id": "iTWihzLUwR79"
      },
      "execution_count": null,
      "outputs": []
    },
    {
      "cell_type": "markdown",
      "source": [
        "**torch.nn.Sequential**"
      ],
      "metadata": {
        "id": "t34fC7C2mj1W"
      }
    },
    {
      "cell_type": "code",
      "source": [
        "#Sequential model\n",
        "\"\"\"Sequntial model can take any input() and forward it to the first module it contains.\n",
        "It then chains outputs to inputs sequentiall and returns the output of last module\"\"\"\n",
        "\n",
        "#Syntax: torch.nn.Sequenctial(*args: Module) or torch.nn.Sequential(OrderedDict([str, Module]))\n",
        "\n",
        "#Example\n",
        "model = nn.Sequential(nn.Conv2d(1, 20, 5),\n",
        "                      nn.ReLU(),\n",
        "                      nn.Conv2d(20,20,5),\n",
        "                      nn.ReLU())\n",
        "\"\"\"\n",
        "#Sequential Model you can also write using OrderedDictionary\n",
        "model = nn.Sequential(OrderedDict([('conv1', nn.Conv2d(1, 20, 5)),\n",
        "                                   ('Relu1', nn.ReLu()),\n",
        "                                   ('conv2', nn.Conv2d(20,64,5)),\n",
        "                                   ('Relu2', nn.ReLu())]\n",
        "                                  ))\n",
        "\"\"\""
      ],
      "metadata": {
        "colab": {
          "base_uri": "https://localhost:8080/",
          "height": 72
        },
        "id": "BjtmV4ZqwR_B",
        "outputId": "295b326d-cb73-4cb4-e56a-ff6f4762bb54"
      },
      "execution_count": null,
      "outputs": [
        {
          "output_type": "execute_result",
          "data": {
            "text/plain": [
              "\"\\n#Sequential Model you can also write using OrderedDictionary\\nmodel = nn.Sequential(OrderedDict([('conv1', nn.Conv2d(1, 20, 5)),\\n                                   ('Relu1', nn.ReLu()),\\n                                   ('conv2', nn.Conv2d(20,64,5)),\\n                                   ('Relu2', nn.ReLu())]\\n                                  ))\\n\""
            ],
            "application/vnd.google.colaboratory.intrinsic+json": {
              "type": "string"
            }
          },
          "metadata": {},
          "execution_count": 4
        }
      ]
    },
    {
      "cell_type": "markdown",
      "source": [
        "**torch.nn.ModuleList**"
      ],
      "metadata": {
        "id": "VTr4h2cYmpAN"
      }
    },
    {
      "cell_type": "code",
      "source": [
        "#MODULELIST\n",
        "\"\"\" Module List can be indexed like normal python list but modules it contains properly registered and will be visible by all module methods\n",
        "Module list holds submodules in the list\"\"\"\n",
        "\n",
        "#Syntax: torch.nn.ModuleList(modules=None)\n",
        "\n",
        "#Example:\n",
        "class ModuleList(nn.Module):\n",
        "    def __init__(self):\n",
        "        super().__init__()\n",
        "        self.linears = nn.ModuleList([nn.Linear(2, 2) for i in range(2)])\n",
        "\n",
        "    def forward(self, x):\n",
        "        for i, l in enumerate(self.linears):\n",
        "            x = self.linears[i//2](x)+l(x)\n",
        "            return x\n",
        "\n",
        "\n",
        "\n",
        "m = ModuleList()\n",
        "x = torch.Tensor([[1., -1.], [1., -1.]])\n",
        "print(m.forward(x))"
      ],
      "metadata": {
        "colab": {
          "base_uri": "https://localhost:8080/"
        },
        "id": "ZRyyHjEXBnHl",
        "outputId": "6ec2f056-018f-44be-de6d-7a780ec5a62f"
      },
      "execution_count": null,
      "outputs": [
        {
          "output_type": "stream",
          "name": "stdout",
          "text": [
            "tensor([[-1.6318, -3.0768],\n",
            "        [-1.6318, -3.0768]], grad_fn=<AddBackward0>)\n"
          ]
        }
      ]
    },
    {
      "cell_type": "markdown",
      "source": [
        "**torch.nn.ModuleDict()**"
      ],
      "metadata": {
        "id": "9ugCAebVnCN3"
      }
    },
    {
      "cell_type": "code",
      "source": [
        "#MODULEDICT\n",
        "\"\"\"\n",
        "Module Dictionary can be indexed like a regular dictionary, it modules contains very properly and will be visible to all of the module methods.\n",
        "Module dictionary holds the submodules in the dictionary and Module dictionary is an ordered dictionary\n",
        "Syntax:\n",
        "torch.nn.ModuleDict(module = none)\n",
        "parameters = module() A mapping dicitonary of string:module format or  an iterable of key value pair of types(string, module)\n",
        "\"\"\"\n",
        "\n",
        "#Example\n",
        "class ModuleDict(nn.Module):\n",
        "    def __init__(self):\n",
        "        super().__init()\n",
        "        self.choices = nn.ModuleDict({\"conv\": nn.Conv2d(10, 10, 3),\n",
        "                                      \"Pool\": nn.MaxPool2d(3)\n",
        "                                      })\n",
        "        self.activations = nn.ModuleDict([[\"lReLU\", nn.LeakyReLU()],\n",
        "                                          ['pReLU', nn.PReLU()]])\n",
        "\n",
        "    def forward(self, x, choice, act):\n",
        "          self\n",
        "\n"
      ],
      "metadata": {
        "id": "-GesbPVnMhMj"
      },
      "execution_count": null,
      "outputs": []
    },
    {
      "cell_type": "markdown",
      "source": [
        "**torch.nn.ParamterList()**"
      ],
      "metadata": {
        "id": "fbzoe1xwnHy-"
      }
    },
    {
      "cell_type": "code",
      "source": [
        "#Parameter List\n",
        "\"\"\"\n",
        "Paraneter list holds the parameters in a list. Parameters list is just like regular python list but tensors that are parameters are properly\n",
        "registered and will be visible by all modules.\n",
        "Syntax:\n",
        "nn.ParameterList(Values = None)\n",
        "\"\"\"\n",
        "#Example\n",
        "class ParameterList(nn.Module):\n",
        "    def __init__(self):\n",
        "        super().__init__()\n",
        "        self.params = nn.ParameterList([nn.Parameters(torch.randn(10,10)) for i in range(10)])\n",
        "\n",
        "    def forward(self, x):\n",
        "        for i, p in enumerate(self.params):\n",
        "            x = self.params[i//2].mm(x)+p.mm(x)\n",
        "\n",
        "        return x"
      ],
      "metadata": {
        "id": "epUkJapvN0x5"
      },
      "execution_count": null,
      "outputs": []
    },
    {
      "cell_type": "markdown",
      "source": [
        "**torch.paramterDict()**"
      ],
      "metadata": {
        "id": "FLCUoXmVnMoN"
      }
    },
    {
      "cell_type": "code",
      "source": [
        "#PARAMETERDICT\n",
        "\"\"\"\n",
        "ParameterDict hols the parameters in a dictionary. ParamaterDict is just like a regular python dictionary\n",
        "Synatx:\n",
        "torch.nn.ParameterDict(parameters=None)\n",
        "where parameters are iterable objects\n",
        "\"\"\"\n",
        "#Example:\n",
        "class ParameterDict(nn.Module):\n",
        "    def __init__(self):\n",
        "        super().__init__()\n",
        "        self.params = nn.ParameterDict({'right', nn.Parameter(torch.randn(5, 10)),\n",
        "                                        'left', nn.Parameter(torch.randn(5, 10))\n",
        "                                        })\n",
        "\n",
        "    def forward(self, choice, x):\n",
        "        x = self.prarams[choice].mm(x)\n",
        "        return x"
      ],
      "metadata": {
        "id": "Z-kWySUGhZpe"
      },
      "execution_count": null,
      "outputs": []
    },
    {
      "cell_type": "code",
      "source": [
        "inputs = torch.randn(32, 1, 5, 5)\n",
        "print(inputs)\n",
        "flatten = nn.Flatten()\n",
        "output = flatten(inputs)\n",
        "print(output.shape)"
      ],
      "metadata": {
        "id": "tMKkjONfhZsK",
        "colab": {
          "base_uri": "https://localhost:8080/"
        },
        "outputId": "e233125a-b575-49bf-9b54-5c723df0e32d"
      },
      "execution_count": null,
      "outputs": [
        {
          "output_type": "stream",
          "name": "stdout",
          "text": [
            "tensor([[[[-1.0910e+00,  1.6767e+00, -5.0773e-01, -3.3903e-01, -1.0958e-01],\n",
            "          [ 2.1769e-01,  1.3594e+00,  5.6963e-01, -8.5616e-01, -8.7529e-01],\n",
            "          [ 6.1240e-01, -3.6328e-01, -1.0898e+00,  6.7136e-01, -5.5390e-01],\n",
            "          [-1.2209e+00,  8.3710e-01, -6.4077e-01,  7.6280e-01, -2.0250e+00],\n",
            "          [-1.5021e+00,  1.1117e+00, -8.8083e-01, -9.4285e-01,  1.2861e-01]]],\n",
            "\n",
            "\n",
            "        [[[-1.6360e-01, -7.1377e-01,  8.5131e-01,  3.6306e-01, -3.5646e-01],\n",
            "          [ 9.5517e-01,  1.2831e+00,  5.3983e-01, -5.0574e-01,  1.4086e+00],\n",
            "          [-1.9689e-01,  1.0468e+00, -4.6108e-01, -6.5907e-01,  9.8800e-01],\n",
            "          [-8.6173e-01, -7.9702e-01, -6.3579e-01, -8.7415e-01, -2.3817e+00],\n",
            "          [ 2.3076e-01,  4.2084e-01, -1.7239e+00, -9.1390e-02,  9.9961e-01]]],\n",
            "\n",
            "\n",
            "        [[[ 1.8522e-01,  7.0927e-02,  1.9985e-01,  2.3478e-01, -8.9680e-01],\n",
            "          [-7.2817e-01,  9.6469e-01,  1.4146e+00,  1.3185e+00,  5.4999e-01],\n",
            "          [-1.9345e-01,  1.2673e+00,  3.5881e-01,  1.0083e+00,  1.3656e+00],\n",
            "          [-7.1546e-02, -1.3658e-01,  5.7232e-01, -5.2747e-01,  1.6059e+00],\n",
            "          [ 8.9210e-02,  2.7189e-01,  4.3474e-01, -2.2629e+00,  3.4450e-01]]],\n",
            "\n",
            "\n",
            "        [[[-1.8005e-01, -2.3398e+00, -6.2725e-01,  5.2017e-02, -4.2441e-01],\n",
            "          [ 3.3621e-01,  5.4732e-01,  1.8514e+00, -6.7159e-01,  5.6319e-01],\n",
            "          [-9.9520e-02,  4.6184e-01,  1.3344e+00, -5.7238e-01,  6.8602e-01],\n",
            "          [-7.9574e-01, -3.6236e-01, -1.0402e+00,  1.7641e+00, -2.3491e-02],\n",
            "          [ 3.7542e-01, -3.2009e-01,  7.8742e-01, -2.9774e-01,  4.6266e-02]]],\n",
            "\n",
            "\n",
            "        [[[ 1.4784e+00, -7.3615e-01, -4.1621e-01, -2.1232e+00, -8.0051e-01],\n",
            "          [ 4.6978e-01,  9.9927e-01, -1.2370e+00, -2.0865e-01, -3.9568e-01],\n",
            "          [-4.4113e-01,  6.2237e-01, -1.0797e-01, -1.2585e+00, -5.4044e-01],\n",
            "          [-7.6749e-01, -1.3065e-01, -1.5296e+00, -8.1742e-01, -3.0839e-01],\n",
            "          [ 1.6641e+00, -1.3375e+00,  1.3247e+00,  1.6222e-01, -4.5370e-02]]],\n",
            "\n",
            "\n",
            "        [[[-1.3968e+00, -7.9906e-01, -1.6552e+00, -4.6257e-02, -1.2294e+00],\n",
            "          [-9.5434e-01,  8.2966e-02,  5.3326e-01, -2.5773e-03, -5.9944e-01],\n",
            "          [ 9.8528e-02, -9.1792e-01, -1.3487e+00, -2.5773e-02, -1.7268e+00],\n",
            "          [-9.7948e-01,  2.3617e-01,  6.0188e-01, -1.6539e+00,  7.6491e-01],\n",
            "          [-1.6001e-01, -8.0480e-02,  8.5547e-02,  1.4718e+00, -1.6671e+00]]],\n",
            "\n",
            "\n",
            "        [[[-7.1280e-01, -8.4943e-01, -4.1060e-01,  4.7579e-01, -6.8963e-01],\n",
            "          [ 5.7112e-02,  4.5832e-02,  1.1461e+00, -1.5063e+00, -4.6151e-01],\n",
            "          [-3.4317e-01, -1.0870e-01,  7.2519e-01,  1.2089e+00, -1.4310e+00],\n",
            "          [-6.6466e-01, -2.1187e-01, -1.2282e+00, -8.1135e-02, -2.5497e+00],\n",
            "          [ 6.1271e-01, -8.5242e-01, -5.2295e-01,  8.4905e-01,  1.1932e+00]]],\n",
            "\n",
            "\n",
            "        [[[ 6.4335e-01,  2.8714e+00,  6.3191e-01, -7.8925e-01,  1.3107e+00],\n",
            "          [-1.1318e-01,  7.3101e-01, -8.5883e-02, -1.0150e-01, -4.1457e-01],\n",
            "          [-4.1217e-01, -3.5746e-01, -9.2949e-02,  1.6203e+00,  4.5146e-01],\n",
            "          [ 5.0969e-02,  4.8774e-01, -1.1652e+00, -4.7451e-01, -8.4777e-01],\n",
            "          [ 7.7398e-02, -7.1293e-01, -2.2772e+00,  2.1632e-01,  2.2490e-01]]],\n",
            "\n",
            "\n",
            "        [[[ 1.0540e+00,  1.1108e+00, -1.3193e-01, -1.3764e+00,  1.5931e-01],\n",
            "          [ 5.0243e-01,  7.2568e-02,  2.4889e+00,  4.1511e-01, -4.5657e-01],\n",
            "          [-1.1007e+00,  2.5584e-01,  2.1871e-01,  4.1780e-01,  8.7775e-01],\n",
            "          [-1.2765e+00,  1.0674e+00, -1.7655e+00,  8.3282e-01,  2.5297e-01],\n",
            "          [-1.6800e-01, -9.0677e-01, -1.0398e+00,  6.4528e-02,  6.4531e-01]]],\n",
            "\n",
            "\n",
            "        [[[ 1.6616e+00,  2.6636e-01,  1.1326e+00, -8.9246e-01, -1.3009e+00],\n",
            "          [-1.8636e+00, -7.9343e-01, -5.0818e-01,  1.3641e-01,  3.9418e-01],\n",
            "          [ 1.1861e+00, -8.6006e-01,  2.1372e-01,  1.3006e+00, -1.4322e+00],\n",
            "          [-9.7186e-01, -1.5987e+00,  8.4447e-01, -1.5920e+00,  3.1169e-01],\n",
            "          [ 1.0161e+00, -5.2825e-01,  5.8215e-01, -6.3785e-01, -7.0131e-01]]],\n",
            "\n",
            "\n",
            "        [[[-9.1564e-01, -2.9542e-01, -1.2474e+00, -1.9747e-01,  8.6369e-01],\n",
            "          [-7.1167e-01, -6.5998e-01,  1.9391e+00, -2.0964e+00, -2.6706e-01],\n",
            "          [-1.9929e+00,  7.6761e-01,  1.1906e-01,  5.0702e-01,  4.7095e-02],\n",
            "          [-2.9017e-01, -8.4076e-01,  9.3856e-01,  6.4563e-01, -1.3827e-01],\n",
            "          [-1.0260e+00,  4.2993e-02,  7.2599e-01, -1.6104e+00,  5.8446e-01]]],\n",
            "\n",
            "\n",
            "        [[[-5.1902e-01,  1.0162e-03, -1.2570e+00,  7.1296e-01, -1.0135e-01],\n",
            "          [ 1.2565e-01, -6.3842e-01,  4.2096e-01,  2.9621e-01, -6.9755e-01],\n",
            "          [-4.4889e-01,  6.1792e-02, -1.1612e+00, -1.3378e+00,  1.2703e+00],\n",
            "          [ 1.7927e+00, -1.0716e+00,  5.8868e-01,  2.2751e+00,  4.2375e-01],\n",
            "          [ 3.6456e-01, -7.1396e-01, -4.0545e-01,  4.8446e-01,  1.0945e+00]]],\n",
            "\n",
            "\n",
            "        [[[ 2.2853e-02, -1.3219e+00, -2.6674e-01, -1.0584e+00, -1.1187e+00],\n",
            "          [ 7.5161e-01,  2.9392e+00, -3.7046e-01, -6.6541e-01, -1.5363e+00],\n",
            "          [ 7.2085e-01,  1.6268e+00, -1.2697e+00, -1.2002e+00,  3.7316e-01],\n",
            "          [ 1.0863e+00, -1.6342e+00,  2.2300e-01,  2.4522e+00, -1.7239e+00],\n",
            "          [-1.1627e+00,  1.0898e+00,  3.3847e-01,  4.1127e-01, -8.2150e-02]]],\n",
            "\n",
            "\n",
            "        [[[-2.1307e-01, -1.2484e+00, -1.2455e-01,  7.4235e-01, -1.3599e+00],\n",
            "          [-2.0993e-01, -2.6852e-01,  3.1178e+00,  7.0933e-01, -4.5794e-01],\n",
            "          [-3.4796e-01, -9.2324e-01, -8.0459e-01,  7.1175e-01, -5.6862e-01],\n",
            "          [ 1.9505e-01,  1.2474e+00,  2.4215e-01, -3.9545e-01,  6.2119e-01],\n",
            "          [ 9.6340e-01, -1.1634e+00, -7.7109e-01, -3.2426e-01,  4.6905e-01]]],\n",
            "\n",
            "\n",
            "        [[[ 1.1221e+00,  1.6590e-01, -5.4890e-01,  1.1974e+00, -4.1311e-01],\n",
            "          [ 5.5833e-01,  9.6409e-01, -4.5595e-01, -3.5396e-01,  7.1573e-01],\n",
            "          [-1.8911e-01,  1.8118e-01, -5.3354e-03,  1.0925e-01, -1.0610e+00],\n",
            "          [-1.5316e-01,  7.3879e-01, -2.8474e-02,  6.3428e-02,  2.3808e+00],\n",
            "          [ 1.7757e+00,  3.9529e-01, -4.8074e-01,  2.4210e-01, -2.1039e-01]]],\n",
            "\n",
            "\n",
            "        [[[ 3.6579e-01,  5.6093e-01,  6.7334e-01, -1.1218e+00,  1.6621e+00],\n",
            "          [ 2.6225e+00,  1.0219e+00, -8.4455e-01, -1.9545e+00, -1.2520e+00],\n",
            "          [-5.4678e-01,  4.1131e-01,  1.2348e+00,  1.6479e-01, -6.5966e-01],\n",
            "          [ 2.3384e+00, -1.1669e+00, -7.4647e-01,  7.6528e-01,  4.1523e-01],\n",
            "          [ 1.1041e-01,  5.1219e-01,  6.6988e-01, -1.4347e+00, -1.0510e+00]]],\n",
            "\n",
            "\n",
            "        [[[-1.3151e+00, -6.5342e-01,  4.3477e-01, -4.1684e-01,  7.6607e-01],\n",
            "          [ 6.6062e-01, -2.4409e-01,  6.7807e-01, -4.3468e-01,  4.7095e-01],\n",
            "          [ 8.4045e-02, -1.7460e+00,  8.3072e-01,  8.4008e-01, -1.3595e+00],\n",
            "          [-1.1300e-01, -7.7469e-01,  1.0649e+00, -1.3994e-01,  7.6096e-01],\n",
            "          [-7.3995e-01, -7.0340e-02, -1.3184e+00, -9.4797e-01,  2.3081e-01]]],\n",
            "\n",
            "\n",
            "        [[[ 9.1420e-01, -7.0138e-01,  3.9461e-01,  1.0048e+00,  6.9979e-01],\n",
            "          [-1.0172e+00,  8.9938e-01, -4.2473e-01, -6.9939e-01,  2.2768e-01],\n",
            "          [-1.4657e-01,  2.0023e+00,  4.8173e-02, -1.8171e+00, -1.1811e+00],\n",
            "          [ 7.4232e-01, -1.1890e-03,  4.0959e-01,  1.6840e+00, -1.7677e+00],\n",
            "          [ 7.0482e-02,  1.0444e+00, -1.0146e+00,  1.0798e+00, -3.7809e-01]]],\n",
            "\n",
            "\n",
            "        [[[-9.9079e-01, -6.0623e-01,  8.8276e-01,  8.3614e-01, -1.1504e+00],\n",
            "          [ 1.1262e+00,  4.7095e-01,  3.8512e-01, -9.0057e-01, -9.3420e-01],\n",
            "          [-1.5220e+00, -2.1275e-01,  1.7573e+00, -3.0536e-01,  5.1146e-01],\n",
            "          [-1.6336e+00,  9.4260e-01,  1.0843e+00,  3.2114e-01, -3.4195e-01],\n",
            "          [-3.2860e-01, -1.3251e+00, -7.3569e-01,  1.3433e-01,  1.8211e-01]]],\n",
            "\n",
            "\n",
            "        [[[-1.2200e+00, -1.7474e+00, -2.1408e-01,  3.5698e-01, -2.4253e-01],\n",
            "          [ 3.1196e-01, -7.5685e-01,  2.3741e-01,  7.1843e-01, -1.7405e-01],\n",
            "          [-7.7748e-01,  1.4928e-01, -1.7666e+00,  8.2950e-01, -3.8445e-01],\n",
            "          [ 5.1215e-01,  8.6569e-01,  4.6215e-01, -6.9317e-01,  1.6726e+00],\n",
            "          [ 1.9863e+00, -1.1398e+00,  1.5932e+00,  8.9442e-01, -1.0204e+00]]],\n",
            "\n",
            "\n",
            "        [[[-3.9847e-02, -3.1980e-01, -1.1360e+00, -5.0160e-01,  2.2102e+00],\n",
            "          [-3.8591e-01, -8.3715e-01, -1.2855e+00, -2.2063e+00, -1.2790e+00],\n",
            "          [ 9.8713e-01, -8.8686e-01,  1.1453e+00, -6.3792e-01,  1.3450e+00],\n",
            "          [-9.2856e-01, -4.4483e-01, -1.7824e-01,  1.9803e-01,  7.6363e-01],\n",
            "          [-1.6165e+00,  3.9650e-01, -1.1799e+00,  5.3888e-02,  1.0218e+00]]],\n",
            "\n",
            "\n",
            "        [[[ 1.9042e-01,  9.8839e-01, -6.3725e-01,  1.1359e+00,  7.1557e-01],\n",
            "          [-1.1729e+00,  3.7331e-01,  1.4057e+00,  3.0339e-01, -5.6062e-01],\n",
            "          [-2.9582e-01, -1.4931e+00, -1.7892e-01,  7.8831e-01,  8.7192e-01],\n",
            "          [-7.3324e-01, -7.7043e-01, -1.3991e+00,  3.2444e-01,  8.8484e-02],\n",
            "          [ 1.6759e-01, -2.5507e-01,  1.1596e+00,  1.7316e+00, -1.2702e+00]]],\n",
            "\n",
            "\n",
            "        [[[ 1.2584e+00, -6.1463e-01,  4.0312e-01, -2.2522e+00, -4.5571e-01],\n",
            "          [-7.2588e-01,  5.7178e-01, -3.8194e-01,  1.0393e+00,  8.5415e-01],\n",
            "          [ 1.1719e-01, -1.0232e-01,  1.0231e+00, -1.2965e+00,  2.0958e+00],\n",
            "          [-3.1910e-01, -2.7360e-01,  3.8404e-01, -7.3940e-01, -3.2295e-01],\n",
            "          [-3.4606e-01,  2.5830e+00,  2.1139e+00,  8.8580e-01, -1.0046e+00]]],\n",
            "\n",
            "\n",
            "        [[[ 7.6292e-01, -9.0884e-03,  2.7735e-01, -5.0532e-01,  1.7949e+00],\n",
            "          [ 1.5712e+00, -3.0863e-01,  5.1261e-02, -2.4540e-01,  2.3884e-01],\n",
            "          [-9.1964e-01,  2.0733e-01, -1.9022e+00, -2.0077e-01, -6.5877e-02],\n",
            "          [ 5.2530e-02, -5.4822e-01, -7.5369e-01, -4.3515e-01, -1.0507e+00],\n",
            "          [-2.0741e+00, -9.9213e-01, -9.0079e-01,  7.6151e-01, -8.6905e-01]]],\n",
            "\n",
            "\n",
            "        [[[-2.2479e+00, -8.1312e-01,  2.9736e-01, -1.2826e+00, -1.4693e+00],\n",
            "          [-1.0053e+00, -9.6698e-01,  1.2128e+00,  9.2743e-02,  1.1463e+00],\n",
            "          [-8.5224e-01,  7.7576e-01,  7.3889e-01,  1.4475e-02,  3.2141e-01],\n",
            "          [ 1.1036e+00, -4.5197e-01, -1.9500e+00,  4.1205e-01, -9.1890e-01],\n",
            "          [-1.3572e+00,  2.9501e-01, -9.5884e-01, -7.9998e-01, -4.9609e-01]]],\n",
            "\n",
            "\n",
            "        [[[-5.6760e-01,  6.7094e-01,  5.7221e-01, -5.3564e-01, -1.4951e+00],\n",
            "          [ 7.8632e-01, -2.2165e+00,  1.5573e+00,  9.2085e-01, -3.2226e-01],\n",
            "          [ 8.9929e-01,  4.1516e-01,  1.2772e-01, -3.6809e-01, -5.7685e-02],\n",
            "          [-1.0942e+00,  6.0263e-01,  9.8586e-02, -9.7410e-02,  3.2347e-01],\n",
            "          [-1.2587e-01, -7.3028e-01,  3.5632e-01, -1.7798e+00,  6.9080e-01]]],\n",
            "\n",
            "\n",
            "        [[[ 2.5624e+00, -1.0044e+00,  1.2784e+00,  7.4887e-01, -1.5005e+00],\n",
            "          [ 7.0125e-01,  9.6534e-01, -4.4409e-01, -4.4371e-01,  1.0409e+00],\n",
            "          [ 6.6463e-01,  1.8369e-01,  8.0155e-01,  1.7029e+00,  9.1039e-01],\n",
            "          [-1.9287e+00, -1.5872e+00,  6.5671e-01,  1.7116e+00, -9.7633e-01],\n",
            "          [ 2.3178e-01, -2.5226e-01, -4.7851e-01,  9.9913e-01,  5.9173e-02]]],\n",
            "\n",
            "\n",
            "        [[[ 3.5442e-02,  4.7076e-01, -8.4668e-01,  3.3789e-01,  1.3220e-01],\n",
            "          [ 1.3320e+00,  1.2937e+00, -1.4382e-01,  6.2213e-02,  2.0608e-01],\n",
            "          [ 6.3736e-01, -3.4493e+00,  5.4448e-01, -1.7401e+00, -2.0145e+00],\n",
            "          [-7.6965e-01,  1.0596e+00, -6.2616e-01, -6.1155e-01, -7.4540e-01],\n",
            "          [-1.2773e+00,  2.2552e-01,  1.3913e+00,  4.5767e-01, -1.3410e-01]]],\n",
            "\n",
            "\n",
            "        [[[ 1.2540e-01, -1.6227e-01, -3.3079e-01, -1.3448e+00,  1.4184e-01],\n",
            "          [-4.6177e-01, -9.6945e-01, -2.8413e-01,  1.7831e-01, -1.0904e+00],\n",
            "          [ 1.2755e+00, -5.7281e-01,  1.7976e-01, -1.2102e+00,  9.3516e-01],\n",
            "          [ 7.9617e-01,  7.4509e-01,  1.0719e+00,  2.9912e-02,  5.3744e-01],\n",
            "          [ 1.5982e+00,  1.0954e+00,  6.4197e-01, -7.8072e-01, -7.8939e-01]]],\n",
            "\n",
            "\n",
            "        [[[-2.4914e+00,  3.3553e-01,  1.4380e+00,  2.0457e+00,  1.6711e+00],\n",
            "          [ 7.3959e-01,  7.1522e-01, -4.2771e-01,  2.9749e-01,  3.2365e+00],\n",
            "          [-7.2117e-01, -1.8805e+00,  3.1674e-03, -1.4743e+00, -8.5894e-01],\n",
            "          [-6.6314e-01,  2.2343e-01, -9.4057e-01,  1.3255e+00,  2.0657e-02],\n",
            "          [ 1.1942e+00, -4.4062e-01, -9.9624e-02, -5.6391e-02, -1.8387e-01]]],\n",
            "\n",
            "\n",
            "        [[[-2.8659e-01,  1.5324e-01,  3.8439e-01,  5.6869e-02,  8.4091e-01],\n",
            "          [ 1.8734e+00,  1.2234e+00,  2.3044e-01, -1.3552e-01, -1.3735e-01],\n",
            "          [ 1.1918e-03,  1.0020e+00,  2.4564e-01,  4.0988e-01,  5.6263e-01],\n",
            "          [-5.7313e-01,  2.8909e-01,  8.4705e-01, -1.2800e+00,  3.3295e-02],\n",
            "          [ 1.1217e+00, -1.3482e+00, -3.0900e-01,  7.8628e-01,  3.4750e-02]]],\n",
            "\n",
            "\n",
            "        [[[-1.5030e-01, -1.4414e+00, -1.6592e-01, -5.0471e-01, -3.9755e-01],\n",
            "          [ 5.5069e-01, -2.3213e-01, -9.8779e-01,  7.2479e-01,  1.4675e+00],\n",
            "          [ 1.0063e+00, -7.8091e-02,  3.0716e-01,  1.1961e+00, -5.5974e-01],\n",
            "          [ 1.7998e+00,  4.8945e-01, -2.2814e-01,  1.7235e-01, -3.3968e-01],\n",
            "          [-8.7320e-01, -7.8833e-01, -2.4201e-01,  1.1791e+00, -1.3792e+00]]]])\n",
            "torch.Size([32, 25])\n"
          ]
        }
      ]
    },
    {
      "cell_type": "code",
      "source": [
        "m  = nn.Linear((128, 20), 20,30)\n",
        "print(m)"
      ],
      "metadata": {
        "id": "C355Ts9uhZvE",
        "colab": {
          "base_uri": "https://localhost:8080/",
          "height": 324
        },
        "outputId": "4806b0de-a63f-477a-c75b-4ba90c1f90e8"
      },
      "execution_count": null,
      "outputs": [
        {
          "output_type": "error",
          "ename": "TypeError",
          "evalue": "ignored",
          "traceback": [
            "\u001b[0;31m---------------------------------------------------------------------------\u001b[0m",
            "\u001b[0;31mTypeError\u001b[0m                                 Traceback (most recent call last)",
            "\u001b[0;32m<ipython-input-13-dedffcb30dd5>\u001b[0m in \u001b[0;36m<cell line: 1>\u001b[0;34m()\u001b[0m\n\u001b[0;32m----> 1\u001b[0;31m \u001b[0mm\u001b[0m  \u001b[0;34m=\u001b[0m \u001b[0mnn\u001b[0m\u001b[0;34m.\u001b[0m\u001b[0mLinear\u001b[0m\u001b[0;34m(\u001b[0m\u001b[0;34m(\u001b[0m\u001b[0;36m128\u001b[0m\u001b[0;34m,\u001b[0m \u001b[0;36m20\u001b[0m\u001b[0;34m)\u001b[0m\u001b[0;34m,\u001b[0m \u001b[0;36m20\u001b[0m\u001b[0;34m,\u001b[0m\u001b[0;36m30\u001b[0m\u001b[0;34m)\u001b[0m\u001b[0;34m\u001b[0m\u001b[0;34m\u001b[0m\u001b[0m\n\u001b[0m\u001b[1;32m      2\u001b[0m \u001b[0mprint\u001b[0m\u001b[0;34m(\u001b[0m\u001b[0mm\u001b[0m\u001b[0;34m)\u001b[0m\u001b[0;34m\u001b[0m\u001b[0;34m\u001b[0m\u001b[0m\n",
            "\u001b[0;32m/usr/local/lib/python3.10/dist-packages/torch/nn/modules/linear.py\u001b[0m in \u001b[0;36m__init__\u001b[0;34m(self, in_features, out_features, bias, device, dtype)\u001b[0m\n\u001b[1;32m     94\u001b[0m         \u001b[0mself\u001b[0m\u001b[0;34m.\u001b[0m\u001b[0min_features\u001b[0m \u001b[0;34m=\u001b[0m \u001b[0min_features\u001b[0m\u001b[0;34m\u001b[0m\u001b[0;34m\u001b[0m\u001b[0m\n\u001b[1;32m     95\u001b[0m         \u001b[0mself\u001b[0m\u001b[0;34m.\u001b[0m\u001b[0mout_features\u001b[0m \u001b[0;34m=\u001b[0m \u001b[0mout_features\u001b[0m\u001b[0;34m\u001b[0m\u001b[0;34m\u001b[0m\u001b[0m\n\u001b[0;32m---> 96\u001b[0;31m         \u001b[0mself\u001b[0m\u001b[0;34m.\u001b[0m\u001b[0mweight\u001b[0m \u001b[0;34m=\u001b[0m \u001b[0mParameter\u001b[0m\u001b[0;34m(\u001b[0m\u001b[0mtorch\u001b[0m\u001b[0;34m.\u001b[0m\u001b[0mempty\u001b[0m\u001b[0;34m(\u001b[0m\u001b[0;34m(\u001b[0m\u001b[0mout_features\u001b[0m\u001b[0;34m,\u001b[0m \u001b[0min_features\u001b[0m\u001b[0;34m)\u001b[0m\u001b[0;34m,\u001b[0m \u001b[0;34m**\u001b[0m\u001b[0mfactory_kwargs\u001b[0m\u001b[0;34m)\u001b[0m\u001b[0;34m)\u001b[0m\u001b[0;34m\u001b[0m\u001b[0;34m\u001b[0m\u001b[0m\n\u001b[0m\u001b[1;32m     97\u001b[0m         \u001b[0;32mif\u001b[0m \u001b[0mbias\u001b[0m\u001b[0;34m:\u001b[0m\u001b[0;34m\u001b[0m\u001b[0;34m\u001b[0m\u001b[0m\n\u001b[1;32m     98\u001b[0m             \u001b[0mself\u001b[0m\u001b[0;34m.\u001b[0m\u001b[0mbias\u001b[0m \u001b[0;34m=\u001b[0m \u001b[0mParameter\u001b[0m\u001b[0;34m(\u001b[0m\u001b[0mtorch\u001b[0m\u001b[0;34m.\u001b[0m\u001b[0mempty\u001b[0m\u001b[0;34m(\u001b[0m\u001b[0mout_features\u001b[0m\u001b[0;34m,\u001b[0m \u001b[0;34m**\u001b[0m\u001b[0mfactory_kwargs\u001b[0m\u001b[0;34m)\u001b[0m\u001b[0;34m)\u001b[0m\u001b[0;34m\u001b[0m\u001b[0;34m\u001b[0m\u001b[0m\n",
            "\u001b[0;31mTypeError\u001b[0m: empty(): argument 'size' must be tuple of ints, but found element of type tuple at pos 2"
          ]
        }
      ]
    },
    {
      "cell_type": "code",
      "source": [
        "n = torch.randn(128, 20)\n",
        "print(n.shape)\n",
        "\n",
        "output = m(n)\n",
        "print(output.shape)"
      ],
      "metadata": {
        "colab": {
          "base_uri": "https://localhost:8080/"
        },
        "id": "KyB1SB_UXFRf",
        "outputId": "1960d9a4-f6eb-4665-e77b-86c931ed4495"
      },
      "execution_count": null,
      "outputs": [
        {
          "output_type": "stream",
          "name": "stdout",
          "text": [
            "torch.Size([128, 20])\n",
            "torch.Size([128, 30])\n"
          ]
        }
      ]
    }
  ]
}