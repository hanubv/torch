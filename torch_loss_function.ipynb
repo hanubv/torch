{
  "nbformat": 4,
  "nbformat_minor": 0,
  "metadata": {
    "colab": {
      "provenance": [],
      "authorship_tag": "ABX9TyPIyULqTCyKWGz45rT2bIZY",
      "include_colab_link": true
    },
    "kernelspec": {
      "name": "python3",
      "display_name": "Python 3"
    },
    "language_info": {
      "name": "python"
    }
  },
  "cells": [
    {
      "cell_type": "markdown",
      "metadata": {
        "id": "view-in-github",
        "colab_type": "text"
      },
      "source": [
        "<a href=\"https://colab.research.google.com/github/hanubv/torch/blob/main/torch_loss_function.ipynb\" target=\"_parent\"><img src=\"https://colab.research.google.com/assets/colab-badge.svg\" alt=\"Open In Colab\"/></a>"
      ]
    },
    {
      "cell_type": "code",
      "source": [
        "import torch\n",
        "import torch.nn as nn\n",
        "import matplotlib.pyplot as plt\n"
      ],
      "metadata": {
        "id": "pHZvwrc73ITJ"
      },
      "execution_count": null,
      "outputs": []
    },
    {
      "cell_type": "code",
      "source": [
        "# NN.L1Loss\n",
        "\"\"\"\n",
        "creates a criterion that measures the mean absolute error between each elements in inputs and outputs.\n",
        "Syntax:\n",
        "torch.nn.L1Loss(size_average = None, reduce = None, reduction = 'mean')\n",
        "\"\"\"\n",
        "#Example\n",
        "loss = nn.L1Loss()\n",
        "inputs = torch.randn(3, 4, requires_grad = True)\n",
        "print(inputs)\n",
        "targets = torch.randn(3, 4)\n",
        "output = loss(inputs, targets)\n",
        "print(\"\\n\")\n",
        "print(output)\n",
        "print(output.backward())\n",
        "\n",
        "\n"
      ],
      "metadata": {
        "colab": {
          "base_uri": "https://localhost:8080/"
        },
        "id": "n_urs8xA3PcI",
        "outputId": "bcb06a3a-3337-478e-a5f8-24c286e8c171"
      },
      "execution_count": null,
      "outputs": [
        {
          "output_type": "stream",
          "name": "stdout",
          "text": [
            "tensor([[ 1.0071, -0.5442, -1.7728, -0.8512],\n",
            "        [-0.1091, -1.3962, -0.1515, -1.3668],\n",
            "        [-0.0619, -0.7485,  1.6045, -1.4087]], requires_grad=True)\n",
            "\n",
            "\n",
            "tensor(1.1494, grad_fn=<MeanBackward0>)\n",
            "None\n"
          ]
        }
      ]
    },
    {
      "cell_type": "code",
      "source": [
        "#MSELoss\n",
        "\"\"\"\n",
        "The mathematical representation for mean squared error can be shown as below\n",
        "MSE = 1/n * (sum(y_pred - y_actual)**2)\n",
        "Syntax:\n",
        "torch.nn.MSELoss(average_size = None, reduce = None, reduction = 'mean')\n",
        "\"\"\"\n",
        "#Example:\n",
        "mse_loss = nn.MSELoss()\n",
        "inputs = torch.randn(3, 5, requires_grad = True)\n",
        "print(inputs)\n",
        "targets = torch.randn(3, 5)\n",
        "print(\"\\n\")\n",
        "print(targets)\n",
        "output = mse_loss(inputs, targets)\n",
        "print(output)\n",
        "\n",
        "output = output.backward()\n",
        "print(output)\n"
      ],
      "metadata": {
        "colab": {
          "base_uri": "https://localhost:8080/"
        },
        "id": "kvUAV2fB3PhA",
        "outputId": "f6dfcb2a-2f95-4711-badc-4c4bbb5307ba"
      },
      "execution_count": null,
      "outputs": [
        {
          "output_type": "stream",
          "name": "stdout",
          "text": [
            "tensor([[ 0.8892, -0.0692, -0.2788, -0.6251, -2.1837],\n",
            "        [ 0.6984,  0.7830,  0.2969,  1.0064, -0.8268],\n",
            "        [-0.4605,  1.5333,  0.2893, -1.8493, -0.6117]], requires_grad=True)\n",
            "\n",
            "\n",
            "tensor([[ 1.0018,  0.2787, -0.6640,  1.5737, -0.8717],\n",
            "        [ 0.9479,  1.9852,  0.6449, -0.8312, -0.8116],\n",
            "        [ 0.6414,  0.0258, -0.9586,  0.2695,  0.9641]])\n",
            "tensor(1.5907, grad_fn=<MseLossBackward0>)\n",
            "None\n"
          ]
        }
      ]
    },
    {
      "cell_type": "code",
      "source": [
        "#Cross entropy loss\n",
        "\"\"\"\n",
        "Cross entropy loss computes the loss between inputs and logits\n",
        "syntax:\n",
        "torch.nn.CrossEntropyLoss(average_size = none, reduce = None, reduction = 'mean')\n",
        "\"\"\"\n",
        "# Example of target with class indices:\n",
        "cross_entropy_loss = torch.nn.CrossEntropyLoss()\n",
        "inputs = torch.randn(3, 5, requires_grad = True)\n",
        "print(inputs)\n",
        "\n",
        "targets = torch.randn(3, 5)\n",
        "print(\"\\n\")\n",
        "print(targets)\n",
        "\n",
        "output = cross_entropy_loss(inputs, targets)\n",
        "print(output)\n",
        "\n",
        "output = output.backward()\n",
        "print(output)\n"
      ],
      "metadata": {
        "colab": {
          "base_uri": "https://localhost:8080/"
        },
        "id": "0ssSEvfeC4-i",
        "outputId": "b27a5d31-76d9-4e2e-c110-9e9c198d9edf"
      },
      "execution_count": null,
      "outputs": [
        {
          "output_type": "stream",
          "name": "stdout",
          "text": [
            "tensor([[ 0.1037, -1.5625, -0.5657,  1.7726,  1.0235],\n",
            "        [ 0.1817,  0.1479,  0.4882, -0.3711, -0.3139],\n",
            "        [ 0.8278,  1.7231,  1.1138, -1.4935, -0.4828]], requires_grad=True)\n",
            "\n",
            "\n",
            "tensor([[ 0.3939,  0.8411, -1.7295, -0.4820,  0.0182],\n",
            "        [-0.2533,  0.6137, -0.6373,  0.7880, -0.4630],\n",
            "        [-0.7219,  0.1203,  0.6310,  1.3696, -0.4813]])\n",
            "tensor(1.0436, grad_fn=<DivBackward1>)\n",
            "None\n"
          ]
        }
      ]
    },
    {
      "cell_type": "code",
      "source": [
        "# Example of target with class probabilities\n",
        "cse = torch.nn.CrossEntropyLoss()\n",
        "inputs = torch.randn(3, 5, requires_grad = True)\n",
        "print(\"Inputs\")\n",
        "print(inputs)\n",
        "targets = torch.randn(3, 5).softmax(dim= 1)\n",
        "print(\"\\n\")\n",
        "print(\"Targets with softmax fucntion\")\n",
        "print(targets)\n",
        "outputs = cse(inputs, targets)\n",
        "print(\"\\n\")\n",
        "print(\"The loss function output\")\n",
        "print(outputs)\n",
        "outputs = outputs.backward()\n",
        "print(outputs)"
      ],
      "metadata": {
        "colab": {
          "base_uri": "https://localhost:8080/"
        },
        "id": "pkzikzbjGjI-",
        "outputId": "22b652fe-c93a-43c7-d504-1d8c30e5763c"
      },
      "execution_count": null,
      "outputs": [
        {
          "output_type": "stream",
          "name": "stdout",
          "text": [
            "Inputs\n",
            "tensor([[-0.7547,  0.4718,  0.3194, -0.4614, -0.9709],\n",
            "        [ 0.4970, -0.2638,  0.4181,  0.1082,  0.2175],\n",
            "        [-0.7543,  1.0800,  0.9305,  0.5290, -0.2645]], requires_grad=True)\n",
            "\n",
            "\n",
            "Targets with softmax fucntion\n",
            "tensor([[0.3813, 0.0891, 0.3498, 0.1598, 0.0199],\n",
            "        [0.0755, 0.2543, 0.3841, 0.2565, 0.0296],\n",
            "        [0.3975, 0.2735, 0.0072, 0.1971, 0.1247]])\n",
            "\n",
            "\n",
            "The loss function output\n",
            "tensor(1.8173, grad_fn=<DivBackward1>)\n",
            "None\n"
          ]
        }
      ]
    },
    {
      "cell_type": "code",
      "source": [
        "#Negative Log Liklihood loss function\n"
      ],
      "metadata": {
        "id": "pr5ihlkHC5Jf"
      },
      "execution_count": null,
      "outputs": []
    }
  ]
}